{
 "cells": [
  {
   "cell_type": "markdown",
   "id": "37b34d3a-d83d-4a88-8730-b0250576e354",
   "metadata": {},
   "source": [
    "# Functions for predicting results from trained models"
   ]
  },
  {
   "cell_type": "code",
   "execution_count": 7,
   "id": "ebffcccc-78ba-480d-8f23-0378bacd333b",
   "metadata": {},
   "outputs": [],
   "source": [
    "import pickle\n",
    "import numpy as np\n",
    "\n",
    "class MyLinear:\n",
    "    \"\"\"Class that holds our custom linear regression model\"\"\"\n",
    "    \n",
    "    def __init__(self, thetas):\n",
    "        self.thetas = thetas\n",
    "\n",
    "    def predict(self, X, thresh=None):\n",
    "        this_x = X[0][:]\n",
    "        this_x = [1, *this_x] # Add bias\n",
    "        this_x = np.array(this_x)\n",
    "\n",
    "        n_labels = self.thetas.shape[1] - 1\n",
    "        preds = np.zeros((n_labels))\n",
    "\n",
    "        for i in range(n_labels):\n",
    "            pred = np.matmul(np.transpose(this_x), self.thetas[i])\n",
    "            preds[i] = self.pred_round(pred, thresh) if thresh else pred\n",
    "\n",
    "        return np.array([preds])\n",
    "\n",
    "    def pred_round(self, x, thresh):\n",
    "        return 0 if x < thresh else 1\n",
    "\n",
    "def predict_cross_val(trained_models, examples, is_regressor=True, num_labels=9):\n",
    "    \"\"\"Takes trained models and returns predictions on new data\"\"\"\n",
    "    \n",
    "    num_splits = len(trained_models)\n",
    "    num_examples = examples.shape[0]\n",
    "    \n",
    "    # init prediction array\n",
    "    if num_labels > 1:\n",
    "        preds = np.zeros((num_examples, num_labels))\n",
    "    else:\n",
    "        preds = np.zeros(num_examples)\n",
    "\n",
    "    # get predictions on test data\n",
    "    for i in range(num_examples):\n",
    "        # init predictions for this specific example\n",
    "        if num_labels > 1:\n",
    "            pred = np.zeros((num_splits, num_labels))\n",
    "        else:\n",
    "            pred = np.zeros(num_splits)\n",
    "        \n",
    "        # get prediction from all models for this\n",
    "        # specific example\n",
    "        for j in range(num_splits):\n",
    "            if num_labels > 1:\n",
    "                pred[j,:] = trained_models[j].predict([examples[i]])\n",
    "            else:\n",
    "                pred[j] = trained_models[j].predict([examples[i]])\n",
    "        \n",
    "        # Average prediction across all models\n",
    "        # and round if this is a classifier model\n",
    "        if num_labels > 1:\n",
    "            pred = np.mean(pred, 0)\n",
    "            pred = pred if is_regressor else np.around(pred)\n",
    "        else:\n",
    "            pred = np.mean(pred)\n",
    "            pred = pred if is_regressor else np.round(pred)\n",
    "        \n",
    "        # Save prediction\n",
    "        if num_labels > 1:\n",
    "            preds[i,:] = pred\n",
    "        else:\n",
    "            preds[i] = pred\n",
    "    \n",
    "    return preds"
   ]
  },
  {
   "cell_type": "markdown",
   "id": "363ea81b-050f-4c7a-8045-efc88a7a5db4",
   "metadata": {},
   "source": [
    "## Examples"
   ]
  },
  {
   "cell_type": "code",
   "execution_count": 3,
   "id": "ab4c1018-8c13-47d0-aef1-41a420abd650",
   "metadata": {},
   "outputs": [],
   "source": [
    "# linear_model = pickle.load(open('linear.sav','rb'))\n",
    "# predict_cross_val(linear_model, np.array([[1, -1, 0, 0, 0, 0, 0, 1, 0]]))"
   ]
  },
  {
   "cell_type": "code",
   "execution_count": 4,
   "id": "d2f18e57-c944-4e0b-831d-d486024ad08c",
   "metadata": {},
   "outputs": [],
   "source": [
    "# knn_model = pickle.load(open('knn.sav','rb'))\n",
    "# predict_cross_val(knn_model, np.array([[1, -1, 0, 0, 0, 0, 0, 1, 0]]))"
   ]
  },
  {
   "cell_type": "code",
   "execution_count": 5,
   "id": "a08a60ea-db01-4f64-8905-26bd6a09cecb",
   "metadata": {},
   "outputs": [],
   "source": [
    "# mlp_model = pickle.load(open('mlp.sav','rb'))\n",
    "# predict_cross_val(mlp_model, np.array([[1, -1, 0, 0, 0, 0, 0, 1, 0]]))"
   ]
  }
 ],
 "metadata": {
  "kernelspec": {
   "display_name": "UFRC Python-3.8",
   "language": "python",
   "name": "python3-3.8-ufrc"
  },
  "language_info": {
   "codemirror_mode": {
    "name": "ipython",
    "version": 3
   },
   "file_extension": ".py",
   "mimetype": "text/x-python",
   "name": "python",
   "nbconvert_exporter": "python",
   "pygments_lexer": "ipython3",
   "version": "3.8.5"
  }
 },
 "nbformat": 4,
 "nbformat_minor": 5
}
